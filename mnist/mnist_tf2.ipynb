{
  "nbformat": 4,
  "nbformat_minor": 0,
  "metadata": {
    "colab": {
      "name": "mnist_tf2.ipynb",
      "provenance": [],
      "collapsed_sections": []
    },
    "kernelspec": {
      "name": "python3",
      "display_name": "Python 3"
    },
    "accelerator": "GPU"
  },
  "cells": [
    {
      "cell_type": "code",
      "metadata": {
        "id": "m0VcRhiDUD_C",
        "colab_type": "code",
        "colab": {}
      },
      "source": [
        "import tensorflow as tf\n",
        "import tensorflow.keras.layers as layers\n",
        "\n",
        "import matplotlib.pyplot as plt\n",
        "import pandas as pd\n",
        "import numpy as np \n",
        "import os\n",
        "import glob\n",
        "import cv2\n",
        "\n",
        "from sklearn.metrics import accuracy_score\n",
        "from skimage import transform"
      ],
      "execution_count": 0,
      "outputs": []
    },
    {
      "cell_type": "code",
      "metadata": {
        "id": "AGz7Bt3DCzHR",
        "colab_type": "code",
        "outputId": "ab6ce1a1-8e8a-4cf1-ba77-e7475449f20c",
        "colab": {
          "base_uri": "https://localhost:8080/",
          "height": 35
        }
      },
      "source": [
        "from google.colab import drive\n",
        "drive.mount('/content/drive')"
      ],
      "execution_count": 0,
      "outputs": [
        {
          "output_type": "stream",
          "text": [
            "Drive already mounted at /content/drive; to attempt to forcibly remount, call drive.mount(\"/content/drive\", force_remount=True).\n"
          ],
          "name": "stdout"
        }
      ]
    },
    {
      "cell_type": "code",
      "metadata": {
        "id": "tbKUUnslaSLd",
        "colab_type": "code",
        "colab": {}
      },
      "source": [
        "#os.environ['CUDA_VISIBLE_DEVICES'] = '0'"
      ],
      "execution_count": 0,
      "outputs": []
    },
    {
      "cell_type": "code",
      "metadata": {
        "id": "iDa2bXrtUY7v",
        "colab_type": "code",
        "colab": {}
      },
      "source": [
        "(x_train, y_train), (x_test, y_test) = tf.keras.datasets.mnist.load_data()"
      ],
      "execution_count": 0,
      "outputs": []
    },
    {
      "cell_type": "code",
      "metadata": {
        "id": "NWsPlJ16nghz",
        "colab_type": "code",
        "outputId": "a04a07a9-4a24-4467-f971-97c3ac823891",
        "colab": {
          "base_uri": "https://localhost:8080/",
          "height": 88
        }
      },
      "source": [
        "print(x_train.shape)\n",
        "print(y_train.shape)\n",
        "print(x_test.shape)\n",
        "print(y_test.shape)"
      ],
      "execution_count": 0,
      "outputs": [
        {
          "output_type": "stream",
          "text": [
            "(60000, 28, 28)\n",
            "(60000,)\n",
            "(10000, 28, 28)\n",
            "(10000,)\n"
          ],
          "name": "stdout"
        }
      ]
    },
    {
      "cell_type": "code",
      "metadata": {
        "id": "NIFdpCdpbqCb",
        "colab_type": "code",
        "colab": {}
      },
      "source": [
        "d1 = x_train.shape[1]\n",
        "d2 = x_train.shape[2]"
      ],
      "execution_count": 0,
      "outputs": []
    },
    {
      "cell_type": "code",
      "metadata": {
        "id": "SVZYLL8mcULo",
        "colab_type": "code",
        "colab": {}
      },
      "source": [
        "def img_resize(img):\n",
        "  img = cv2.resize(img, (d1, d2))\n",
        "  img = np.array(img)\n",
        "  # 色反転\n",
        "  img = cv2.bitwise_not(img)\n",
        "  return img"
      ],
      "execution_count": 0,
      "outputs": []
    },
    {
      "cell_type": "code",
      "metadata": {
        "id": "HKFA0KI0cLOI",
        "colab_type": "code",
        "outputId": "b00d268e-18cf-47d7-b93b-445804d51b2f",
        "colab": {
          "base_uri": "https://localhost:8080/",
          "height": 70
        }
      },
      "source": [
        "# ペイントで書いた数字をデータセットに追加する\n",
        "\n",
        "paint_img = []\n",
        "paint_label = []\n",
        "\n",
        "current_path = '/content/drive/My Drive/Colab Notebooks/mnist/sample_img/'\n",
        "os.chdir(current_path)\n",
        "\n",
        "for cnt in range(10):\n",
        "  print(cnt, end=' ')\n",
        "  img_list = glob.glob(str(cnt) + '/*.png')\n",
        "\n",
        "  for img in img_list:\n",
        "    img = cv2.imread(img, cv2.IMREAD_GRAYSCALE)\n",
        "    img = img_resize(img)\n",
        "\n",
        "    paint_img.append(img)\n",
        "    paint_label.append(cnt)\n",
        "\n",
        "paint_img = np.array(paint_img)\n",
        "paint_label = np.array(paint_label)\n",
        "\n",
        "print(\"\")\n",
        "print(paint_img.shape)\n",
        "print(paint_label.shape)"
      ],
      "execution_count": 0,
      "outputs": [
        {
          "output_type": "stream",
          "text": [
            "0 1 2 3 4 5 6 7 8 9 \n",
            "(500, 28, 28)\n",
            "(500,)\n"
          ],
          "name": "stdout"
        }
      ]
    },
    {
      "cell_type": "code",
      "metadata": {
        "id": "c1lXLYulAsNQ",
        "colab_type": "code",
        "colab": {}
      },
      "source": [
        "# rotate\n",
        "def rotate_image(images, angle):\n",
        "  img_list = []\n",
        "  for cnt in range(len(images)):\n",
        "    img_list.append(transform.rotate(images[cnt], angle, resize=False))\n",
        "  return np.array(img_list)"
      ],
      "execution_count": 0,
      "outputs": []
    },
    {
      "cell_type": "code",
      "metadata": {
        "id": "hEroZVJMCCmd",
        "colab_type": "code",
        "colab": {}
      },
      "source": [
        "images = [paint_img]\n",
        "labels = [paint_label]\n",
        "\n",
        "# DataAugmentation\n",
        "for cnt in range(3):\n",
        "  images.append(rotate_image(paint_img, (cnt+1)))\n",
        "  images.append(rotate_image(paint_img, -(cnt+1)))\n",
        "\n",
        "  labels.append(paint_label)\n",
        "  labels.append(paint_label)\n"
      ],
      "execution_count": 0,
      "outputs": []
    },
    {
      "cell_type": "code",
      "metadata": {
        "id": "RRycHk2IP53_",
        "colab_type": "code",
        "colab": {}
      },
      "source": [
        "# 学習データを適当に間引く\n",
        "x_train = x_train[:1500]\n",
        "y_train = y_train[:1500]"
      ],
      "execution_count": 0,
      "outputs": []
    },
    {
      "cell_type": "code",
      "metadata": {
        "id": "wMpqLH9DhqcG",
        "colab_type": "code",
        "outputId": "3fef43d4-590b-478e-c43a-99b477305a86",
        "colab": {
          "base_uri": "https://localhost:8080/",
          "height": 52
        }
      },
      "source": [
        "# add mnist data\n",
        "images.append(x_train)\n",
        "labels.append(y_train)\n",
        "# 連結\n",
        "x_train = np.concatenate(images, 0)\n",
        "y_train = np.concatenate(labels, 0)\n",
        "\n",
        "print(x_train.shape)\n",
        "print(y_train.shape)"
      ],
      "execution_count": 0,
      "outputs": [
        {
          "output_type": "stream",
          "text": [
            "(5000, 28, 28)\n",
            "(5000,)\n"
          ],
          "name": "stdout"
        }
      ]
    },
    {
      "cell_type": "code",
      "metadata": {
        "id": "gORh6y68GqAE",
        "colab_type": "code",
        "colab": {}
      },
      "source": [
        "# シャッフル\n",
        "p = np.random.permutation(len(x_train))\n",
        "x_train = x_train[p]\n",
        "y_train = y_train[p]"
      ],
      "execution_count": 0,
      "outputs": []
    },
    {
      "cell_type": "code",
      "metadata": {
        "id": "iDZdqmEqSZLB",
        "colab_type": "code",
        "outputId": "638d3b89-dd2f-4895-f41a-89b9f4ab874d",
        "colab": {
          "base_uri": "https://localhost:8080/",
          "height": 52
        }
      },
      "source": [
        "# 各ラベルの数を確認\n",
        "uni, counts = np.unique(y_train, return_counts=True)\n",
        "\n",
        "print(uni)\n",
        "print(counts)"
      ],
      "execution_count": 0,
      "outputs": [
        {
          "output_type": "stream",
          "text": [
            "[0 1 2 3 4 5 6 7 8 9]\n",
            "[490 522 494 492 510 487 491 527 484 503]\n"
          ],
          "name": "stdout"
        }
      ]
    },
    {
      "cell_type": "code",
      "metadata": {
        "id": "g1vntDZTq-fB",
        "colab_type": "code",
        "outputId": "b80d6db1-8608-44fa-8832-0545f625bf74",
        "colab": {
          "base_uri": "https://localhost:8080/",
          "height": 35
        }
      },
      "source": [
        "unique_num = len(np.unique(y_train))\n",
        "unique_num"
      ],
      "execution_count": 0,
      "outputs": [
        {
          "output_type": "execute_result",
          "data": {
            "text/plain": [
              "10"
            ]
          },
          "metadata": {
            "tags": []
          },
          "execution_count": 15
        }
      ]
    },
    {
      "cell_type": "code",
      "metadata": {
        "id": "FeXtzK2_oIu2",
        "colab_type": "code",
        "colab": {}
      },
      "source": [
        "# 0～255に変換\n",
        "x_train = x_train / 255\n",
        "x_test = x_test / 255"
      ],
      "execution_count": 0,
      "outputs": []
    },
    {
      "cell_type": "code",
      "metadata": {
        "id": "NTE5R7abo0o0",
        "colab_type": "code",
        "colab": {}
      },
      "source": [
        "# OneHot\n",
        "y_train = np.eye(unique_num)[y_train]\n",
        "y_test = np.eye(unique_num)[y_test]"
      ],
      "execution_count": 0,
      "outputs": []
    },
    {
      "cell_type": "code",
      "metadata": {
        "id": "o27BZ5WRrQeq",
        "colab_type": "code",
        "outputId": "e689e117-5a94-48ef-87f9-ac3c90b93f26",
        "colab": {
          "base_uri": "https://localhost:8080/",
          "height": 52
        }
      },
      "source": [
        "print(y_train.shape)\n",
        "print(y_test.shape)"
      ],
      "execution_count": 0,
      "outputs": [
        {
          "output_type": "stream",
          "text": [
            "(5000, 10)\n",
            "(10000, 10)\n"
          ],
          "name": "stdout"
        }
      ]
    },
    {
      "cell_type": "code",
      "metadata": {
        "id": "c-x1D8pkreIG",
        "colab_type": "code",
        "colab": {}
      },
      "source": [
        "batch_size = 64\n",
        "epochs = 100\n",
        "\n",
        "kernel = 3\n",
        "filters = 8"
      ],
      "execution_count": 0,
      "outputs": []
    },
    {
      "cell_type": "code",
      "metadata": {
        "id": "cl_ZrMVjGZeQ",
        "colab_type": "code",
        "colab": {}
      },
      "source": [
        "x_train = x_train.reshape([-1, d1, d2, 1])\n",
        "x_test = x_test.reshape([-1, d1, d2, 1])"
      ],
      "execution_count": 0,
      "outputs": []
    },
    {
      "cell_type": "code",
      "metadata": {
        "id": "wNt2a5lerj_L",
        "colab_type": "code",
        "colab": {}
      },
      "source": [
        "inputs = layers.Input(shape = (d1, d2, 1))\n",
        "x = inputs\n",
        "\n",
        "for cnt in range(2):\n",
        "  filters = filters*2\n",
        "  x = layers.Conv2D(filters, kernel ,padding = \"SAME\")(x)\n",
        "  x = layers.ReLU()(x)\n",
        "  x = layers.MaxPooling2D()(x)\n",
        "\n",
        "x = layers.Flatten()(x)\n",
        "\n",
        "x = layers.Dense(512)(x)\n",
        "x = layers.ReLU()(x)\n",
        "x = layers.Dropout(0.5)(x)\n",
        "\n",
        "x = layers.Dense(64)(x)\n",
        "x = layers.ReLU()(x)\n",
        "x = layers.Dropout(0.5)(x)\n",
        "\n",
        "y = layers.Dense(unique_num, activation = \"softmax\")(x)\n",
        "\n",
        "model = tf.keras.Model(inputs = inputs, outputs = y)"
      ],
      "execution_count": 0,
      "outputs": []
    },
    {
      "cell_type": "code",
      "metadata": {
        "id": "1tw7DUgvEVTX",
        "colab_type": "code",
        "outputId": "a41fcd89-ec7d-40dd-ca20-9335f7b971c8",
        "colab": {
          "base_uri": "https://localhost:8080/",
          "height": 692
        }
      },
      "source": [
        "model.summary()"
      ],
      "execution_count": 0,
      "outputs": [
        {
          "output_type": "stream",
          "text": [
            "Model: \"model\"\n",
            "_________________________________________________________________\n",
            "Layer (type)                 Output Shape              Param #   \n",
            "=================================================================\n",
            "input_1 (InputLayer)         [(None, 28, 28, 1)]       0         \n",
            "_________________________________________________________________\n",
            "conv2d (Conv2D)              (None, 28, 28, 16)        160       \n",
            "_________________________________________________________________\n",
            "re_lu (ReLU)                 (None, 28, 28, 16)        0         \n",
            "_________________________________________________________________\n",
            "max_pooling2d (MaxPooling2D) (None, 14, 14, 16)        0         \n",
            "_________________________________________________________________\n",
            "conv2d_1 (Conv2D)            (None, 14, 14, 32)        4640      \n",
            "_________________________________________________________________\n",
            "re_lu_1 (ReLU)               (None, 14, 14, 32)        0         \n",
            "_________________________________________________________________\n",
            "max_pooling2d_1 (MaxPooling2 (None, 7, 7, 32)          0         \n",
            "_________________________________________________________________\n",
            "flatten (Flatten)            (None, 1568)              0         \n",
            "_________________________________________________________________\n",
            "dense (Dense)                (None, 512)               803328    \n",
            "_________________________________________________________________\n",
            "re_lu_2 (ReLU)               (None, 512)               0         \n",
            "_________________________________________________________________\n",
            "dropout (Dropout)            (None, 512)               0         \n",
            "_________________________________________________________________\n",
            "dense_1 (Dense)              (None, 64)                32832     \n",
            "_________________________________________________________________\n",
            "re_lu_3 (ReLU)               (None, 64)                0         \n",
            "_________________________________________________________________\n",
            "dropout_1 (Dropout)          (None, 64)                0         \n",
            "_________________________________________________________________\n",
            "dense_2 (Dense)              (None, 10)                650       \n",
            "=================================================================\n",
            "Total params: 841,610\n",
            "Trainable params: 841,610\n",
            "Non-trainable params: 0\n",
            "_________________________________________________________________\n"
          ],
          "name": "stdout"
        }
      ]
    },
    {
      "cell_type": "code",
      "metadata": {
        "id": "gQoehJSmGJPO",
        "colab_type": "code",
        "colab": {}
      },
      "source": [
        "model.compile('adam', \"categorical_crossentropy\", metrics = [\"accuracy\"])"
      ],
      "execution_count": 0,
      "outputs": []
    },
    {
      "cell_type": "code",
      "metadata": {
        "id": "2pw77iw3FZk8",
        "colab_type": "code",
        "outputId": "8eec0ab4-8913-44e6-a060-fce63a10125f",
        "colab": {
          "base_uri": "https://localhost:8080/",
          "height": 1000
        }
      },
      "source": [
        "history = model.fit(\n",
        "    x = x_train, y = y_train, \n",
        "    batch_size = batch_size,\n",
        "    epochs = epochs, \n",
        "    validation_split=0.2,\n",
        "    shuffle=True)"
      ],
      "execution_count": 0,
      "outputs": [
        {
          "output_type": "stream",
          "text": [
            "Epoch 1/100\n",
            "63/63 [==============================] - 1s 10ms/step - loss: 2.1808 - accuracy: 0.1785 - val_loss: 1.8843 - val_accuracy: 0.3310\n",
            "Epoch 2/100\n",
            "63/63 [==============================] - 0s 5ms/step - loss: 1.8559 - accuracy: 0.3050 - val_loss: 1.6332 - val_accuracy: 0.4530\n",
            "Epoch 3/100\n",
            "63/63 [==============================] - 0s 5ms/step - loss: 1.6893 - accuracy: 0.3645 - val_loss: 1.5593 - val_accuracy: 0.4070\n",
            "Epoch 4/100\n",
            "63/63 [==============================] - 0s 5ms/step - loss: 1.5926 - accuracy: 0.4000 - val_loss: 1.5180 - val_accuracy: 0.4070\n",
            "Epoch 5/100\n",
            "63/63 [==============================] - 0s 5ms/step - loss: 1.5433 - accuracy: 0.4385 - val_loss: 1.4932 - val_accuracy: 0.4810\n",
            "Epoch 6/100\n",
            "63/63 [==============================] - 0s 5ms/step - loss: 1.4956 - accuracy: 0.4440 - val_loss: 1.4907 - val_accuracy: 0.4730\n",
            "Epoch 7/100\n",
            "63/63 [==============================] - 0s 5ms/step - loss: 1.4808 - accuracy: 0.4577 - val_loss: 1.4794 - val_accuracy: 0.6230\n",
            "Epoch 8/100\n",
            "63/63 [==============================] - 0s 5ms/step - loss: 1.4537 - accuracy: 0.4750 - val_loss: 1.4744 - val_accuracy: 0.5820\n",
            "Epoch 9/100\n",
            "63/63 [==============================] - 0s 5ms/step - loss: 1.4308 - accuracy: 0.4930 - val_loss: 1.4598 - val_accuracy: 0.6130\n",
            "Epoch 10/100\n",
            "63/63 [==============================] - 0s 5ms/step - loss: 1.3770 - accuracy: 0.5420 - val_loss: 1.4367 - val_accuracy: 0.7190\n",
            "Epoch 11/100\n",
            "63/63 [==============================] - 0s 5ms/step - loss: 1.3342 - accuracy: 0.5635 - val_loss: 1.3673 - val_accuracy: 0.7280\n",
            "Epoch 12/100\n",
            "63/63 [==============================] - 0s 5ms/step - loss: 1.2431 - accuracy: 0.6030 - val_loss: 1.2685 - val_accuracy: 0.7690\n",
            "Epoch 13/100\n",
            "63/63 [==============================] - 0s 5ms/step - loss: 1.1537 - accuracy: 0.6355 - val_loss: 1.1354 - val_accuracy: 0.7080\n",
            "Epoch 14/100\n",
            "63/63 [==============================] - 0s 5ms/step - loss: 1.0576 - accuracy: 0.6722 - val_loss: 1.0240 - val_accuracy: 0.7840\n",
            "Epoch 15/100\n",
            "63/63 [==============================] - 0s 5ms/step - loss: 0.9524 - accuracy: 0.7025 - val_loss: 0.9786 - val_accuracy: 0.8140\n",
            "Epoch 16/100\n",
            "63/63 [==============================] - 0s 5ms/step - loss: 0.8918 - accuracy: 0.7228 - val_loss: 0.8946 - val_accuracy: 0.8260\n",
            "Epoch 17/100\n",
            "63/63 [==============================] - 0s 5ms/step - loss: 0.7967 - accuracy: 0.7560 - val_loss: 0.8521 - val_accuracy: 0.8550\n",
            "Epoch 18/100\n",
            "63/63 [==============================] - 0s 5ms/step - loss: 0.7026 - accuracy: 0.7857 - val_loss: 0.8113 - val_accuracy: 0.8580\n",
            "Epoch 19/100\n",
            "63/63 [==============================] - 0s 5ms/step - loss: 0.6682 - accuracy: 0.8058 - val_loss: 0.8272 - val_accuracy: 0.8710\n",
            "Epoch 20/100\n",
            "63/63 [==============================] - 0s 5ms/step - loss: 0.6078 - accuracy: 0.8230 - val_loss: 0.6984 - val_accuracy: 0.8680\n",
            "Epoch 21/100\n",
            "63/63 [==============================] - 0s 5ms/step - loss: 0.5698 - accuracy: 0.8365 - val_loss: 0.8071 - val_accuracy: 0.8650\n",
            "Epoch 22/100\n",
            "63/63 [==============================] - 0s 5ms/step - loss: 0.5313 - accuracy: 0.8455 - val_loss: 0.6935 - val_accuracy: 0.8890\n",
            "Epoch 23/100\n",
            "63/63 [==============================] - 0s 5ms/step - loss: 0.4836 - accuracy: 0.8568 - val_loss: 0.6936 - val_accuracy: 0.8970\n",
            "Epoch 24/100\n",
            "63/63 [==============================] - 0s 5ms/step - loss: 0.4709 - accuracy: 0.8715 - val_loss: 0.6410 - val_accuracy: 0.9000\n",
            "Epoch 25/100\n",
            "63/63 [==============================] - 0s 5ms/step - loss: 0.4381 - accuracy: 0.8775 - val_loss: 0.5998 - val_accuracy: 0.8940\n",
            "Epoch 26/100\n",
            "63/63 [==============================] - 0s 5ms/step - loss: 0.3813 - accuracy: 0.8940 - val_loss: 0.6308 - val_accuracy: 0.9190\n",
            "Epoch 27/100\n",
            "63/63 [==============================] - 0s 5ms/step - loss: 0.3664 - accuracy: 0.8957 - val_loss: 0.5823 - val_accuracy: 0.9010\n",
            "Epoch 28/100\n",
            "63/63 [==============================] - 0s 5ms/step - loss: 0.3597 - accuracy: 0.9062 - val_loss: 0.6142 - val_accuracy: 0.9220\n",
            "Epoch 29/100\n",
            "63/63 [==============================] - 0s 5ms/step - loss: 0.3395 - accuracy: 0.9080 - val_loss: 0.5679 - val_accuracy: 0.9230\n",
            "Epoch 30/100\n",
            "63/63 [==============================] - 0s 5ms/step - loss: 0.3003 - accuracy: 0.9170 - val_loss: 0.5137 - val_accuracy: 0.9310\n",
            "Epoch 31/100\n",
            "63/63 [==============================] - 0s 5ms/step - loss: 0.2947 - accuracy: 0.9183 - val_loss: 0.5592 - val_accuracy: 0.9450\n",
            "Epoch 32/100\n",
            "63/63 [==============================] - 0s 5ms/step - loss: 0.3009 - accuracy: 0.9240 - val_loss: 0.5206 - val_accuracy: 0.9380\n",
            "Epoch 33/100\n",
            "63/63 [==============================] - 0s 5ms/step - loss: 0.2770 - accuracy: 0.9285 - val_loss: 0.5734 - val_accuracy: 0.9440\n",
            "Epoch 34/100\n",
            "63/63 [==============================] - 0s 5ms/step - loss: 0.2777 - accuracy: 0.9310 - val_loss: 0.6736 - val_accuracy: 0.9510\n",
            "Epoch 35/100\n",
            "63/63 [==============================] - 0s 5ms/step - loss: 0.2877 - accuracy: 0.9300 - val_loss: 0.6014 - val_accuracy: 0.9550\n",
            "Epoch 36/100\n",
            "63/63 [==============================] - 0s 5ms/step - loss: 0.2448 - accuracy: 0.9388 - val_loss: 0.5300 - val_accuracy: 0.9550\n",
            "Epoch 37/100\n",
            "63/63 [==============================] - 0s 5ms/step - loss: 0.2081 - accuracy: 0.9457 - val_loss: 0.5487 - val_accuracy: 0.9490\n",
            "Epoch 38/100\n",
            "63/63 [==============================] - 0s 5ms/step - loss: 0.1902 - accuracy: 0.9515 - val_loss: 0.5972 - val_accuracy: 0.9590\n",
            "Epoch 39/100\n",
            "63/63 [==============================] - 0s 5ms/step - loss: 0.1834 - accuracy: 0.9510 - val_loss: 0.5352 - val_accuracy: 0.9590\n",
            "Epoch 40/100\n",
            "63/63 [==============================] - 0s 5ms/step - loss: 0.1927 - accuracy: 0.9542 - val_loss: 0.5623 - val_accuracy: 0.9590\n",
            "Epoch 41/100\n",
            "63/63 [==============================] - 0s 5ms/step - loss: 0.1690 - accuracy: 0.9557 - val_loss: 0.5621 - val_accuracy: 0.9660\n",
            "Epoch 42/100\n",
            "63/63 [==============================] - 0s 5ms/step - loss: 0.1483 - accuracy: 0.9680 - val_loss: 0.6173 - val_accuracy: 0.9540\n",
            "Epoch 43/100\n",
            "63/63 [==============================] - 0s 5ms/step - loss: 0.1460 - accuracy: 0.9638 - val_loss: 0.6565 - val_accuracy: 0.9600\n",
            "Epoch 44/100\n",
            "63/63 [==============================] - 0s 5ms/step - loss: 0.1513 - accuracy: 0.9630 - val_loss: 0.6748 - val_accuracy: 0.9650\n",
            "Epoch 45/100\n",
            "63/63 [==============================] - 0s 5ms/step - loss: 0.1498 - accuracy: 0.9625 - val_loss: 0.6142 - val_accuracy: 0.9620\n",
            "Epoch 46/100\n",
            "63/63 [==============================] - 0s 5ms/step - loss: 0.1478 - accuracy: 0.9638 - val_loss: 0.9028 - val_accuracy: 0.9510\n",
            "Epoch 47/100\n",
            "63/63 [==============================] - 0s 5ms/step - loss: 0.1520 - accuracy: 0.9638 - val_loss: 0.6298 - val_accuracy: 0.9640\n",
            "Epoch 48/100\n",
            "63/63 [==============================] - 0s 5ms/step - loss: 0.1834 - accuracy: 0.9603 - val_loss: 0.4696 - val_accuracy: 0.9630\n",
            "Epoch 49/100\n",
            "63/63 [==============================] - 0s 5ms/step - loss: 0.1654 - accuracy: 0.9635 - val_loss: 0.4900 - val_accuracy: 0.9710\n",
            "Epoch 50/100\n",
            "63/63 [==============================] - 0s 5ms/step - loss: 0.1308 - accuracy: 0.9682 - val_loss: 0.5700 - val_accuracy: 0.9650\n",
            "Epoch 51/100\n",
            "63/63 [==============================] - 0s 5ms/step - loss: 0.1661 - accuracy: 0.9620 - val_loss: 0.7761 - val_accuracy: 0.9670\n",
            "Epoch 52/100\n",
            "63/63 [==============================] - 0s 5ms/step - loss: 0.1512 - accuracy: 0.9670 - val_loss: 0.5577 - val_accuracy: 0.9750\n",
            "Epoch 53/100\n",
            "63/63 [==============================] - 0s 5ms/step - loss: 0.1371 - accuracy: 0.9703 - val_loss: 0.6447 - val_accuracy: 0.9700\n",
            "Epoch 54/100\n",
            "63/63 [==============================] - 0s 5ms/step - loss: 0.1672 - accuracy: 0.9682 - val_loss: 0.4854 - val_accuracy: 0.9680\n",
            "Epoch 55/100\n",
            "63/63 [==============================] - 0s 5ms/step - loss: 0.1376 - accuracy: 0.9695 - val_loss: 0.4846 - val_accuracy: 0.9670\n",
            "Epoch 56/100\n",
            "63/63 [==============================] - 0s 5ms/step - loss: 0.0986 - accuracy: 0.9755 - val_loss: 0.5024 - val_accuracy: 0.9670\n",
            "Epoch 57/100\n",
            "63/63 [==============================] - 0s 5ms/step - loss: 0.1093 - accuracy: 0.9750 - val_loss: 0.5266 - val_accuracy: 0.9710\n",
            "Epoch 58/100\n",
            "63/63 [==============================] - 0s 5ms/step - loss: 0.1193 - accuracy: 0.9750 - val_loss: 0.5306 - val_accuracy: 0.9690\n",
            "Epoch 59/100\n",
            "63/63 [==============================] - 0s 5ms/step - loss: 0.0913 - accuracy: 0.9770 - val_loss: 0.6177 - val_accuracy: 0.9690\n",
            "Epoch 60/100\n",
            "63/63 [==============================] - 0s 5ms/step - loss: 0.0809 - accuracy: 0.9810 - val_loss: 0.6465 - val_accuracy: 0.9710\n",
            "Epoch 61/100\n",
            "63/63 [==============================] - 0s 5ms/step - loss: 0.0803 - accuracy: 0.9800 - val_loss: 0.6689 - val_accuracy: 0.9710\n",
            "Epoch 62/100\n",
            "63/63 [==============================] - 0s 5ms/step - loss: 0.0932 - accuracy: 0.9800 - val_loss: 0.6199 - val_accuracy: 0.9690\n",
            "Epoch 63/100\n",
            "63/63 [==============================] - 0s 5ms/step - loss: 0.0924 - accuracy: 0.9793 - val_loss: 0.5885 - val_accuracy: 0.9710\n",
            "Epoch 64/100\n",
            "63/63 [==============================] - 0s 5ms/step - loss: 0.0680 - accuracy: 0.9840 - val_loss: 0.5987 - val_accuracy: 0.9730\n",
            "Epoch 65/100\n",
            "63/63 [==============================] - 0s 5ms/step - loss: 0.0741 - accuracy: 0.9827 - val_loss: 0.6372 - val_accuracy: 0.9640\n",
            "Epoch 66/100\n",
            "63/63 [==============================] - 0s 5ms/step - loss: 0.0713 - accuracy: 0.9790 - val_loss: 0.6904 - val_accuracy: 0.9660\n",
            "Epoch 67/100\n",
            "63/63 [==============================] - 0s 5ms/step - loss: 0.0891 - accuracy: 0.9818 - val_loss: 0.5502 - val_accuracy: 0.9720\n",
            "Epoch 68/100\n",
            "63/63 [==============================] - 0s 5ms/step - loss: 0.0639 - accuracy: 0.9833 - val_loss: 0.7247 - val_accuracy: 0.9730\n",
            "Epoch 69/100\n",
            "63/63 [==============================] - 0s 5ms/step - loss: 0.0952 - accuracy: 0.9768 - val_loss: 0.6973 - val_accuracy: 0.9750\n",
            "Epoch 70/100\n",
            "63/63 [==============================] - 0s 5ms/step - loss: 0.0786 - accuracy: 0.9778 - val_loss: 0.7234 - val_accuracy: 0.9750\n",
            "Epoch 71/100\n",
            "63/63 [==============================] - 0s 5ms/step - loss: 0.0637 - accuracy: 0.9868 - val_loss: 0.6798 - val_accuracy: 0.9730\n",
            "Epoch 72/100\n",
            "63/63 [==============================] - 0s 5ms/step - loss: 0.0587 - accuracy: 0.9870 - val_loss: 0.7475 - val_accuracy: 0.9740\n",
            "Epoch 73/100\n",
            "63/63 [==============================] - 0s 5ms/step - loss: 0.0848 - accuracy: 0.9835 - val_loss: 1.0656 - val_accuracy: 0.9720\n",
            "Epoch 74/100\n",
            "63/63 [==============================] - 0s 5ms/step - loss: 0.0820 - accuracy: 0.9830 - val_loss: 0.6756 - val_accuracy: 0.9740\n",
            "Epoch 75/100\n",
            "63/63 [==============================] - 0s 5ms/step - loss: 0.0616 - accuracy: 0.9855 - val_loss: 0.8837 - val_accuracy: 0.9760\n",
            "Epoch 76/100\n",
            "63/63 [==============================] - 0s 5ms/step - loss: 0.0596 - accuracy: 0.9837 - val_loss: 0.9100 - val_accuracy: 0.9740\n",
            "Epoch 77/100\n",
            "63/63 [==============================] - 0s 5ms/step - loss: 0.0701 - accuracy: 0.9845 - val_loss: 0.9250 - val_accuracy: 0.9730\n",
            "Epoch 78/100\n",
            "63/63 [==============================] - 0s 5ms/step - loss: 0.0950 - accuracy: 0.9840 - val_loss: 0.7472 - val_accuracy: 0.9730\n",
            "Epoch 79/100\n",
            "63/63 [==============================] - 0s 5ms/step - loss: 0.0623 - accuracy: 0.9850 - val_loss: 1.0031 - val_accuracy: 0.9730\n",
            "Epoch 80/100\n",
            "63/63 [==============================] - 0s 5ms/step - loss: 0.0670 - accuracy: 0.9830 - val_loss: 0.7678 - val_accuracy: 0.9760\n",
            "Epoch 81/100\n",
            "63/63 [==============================] - 0s 5ms/step - loss: 0.0563 - accuracy: 0.9860 - val_loss: 0.8349 - val_accuracy: 0.9760\n",
            "Epoch 82/100\n",
            "63/63 [==============================] - 0s 5ms/step - loss: 0.0526 - accuracy: 0.9880 - val_loss: 0.7530 - val_accuracy: 0.9750\n",
            "Epoch 83/100\n",
            "63/63 [==============================] - 0s 5ms/step - loss: 0.0524 - accuracy: 0.9880 - val_loss: 0.7411 - val_accuracy: 0.9730\n",
            "Epoch 84/100\n",
            "63/63 [==============================] - 0s 5ms/step - loss: 0.0570 - accuracy: 0.9877 - val_loss: 0.8511 - val_accuracy: 0.9740\n",
            "Epoch 85/100\n",
            "63/63 [==============================] - 0s 5ms/step - loss: 0.0958 - accuracy: 0.9877 - val_loss: 0.7298 - val_accuracy: 0.9760\n",
            "Epoch 86/100\n",
            "63/63 [==============================] - 0s 5ms/step - loss: 0.0752 - accuracy: 0.9875 - val_loss: 0.7166 - val_accuracy: 0.9770\n",
            "Epoch 87/100\n",
            "63/63 [==============================] - 0s 5ms/step - loss: 0.0732 - accuracy: 0.9860 - val_loss: 0.6132 - val_accuracy: 0.9790\n",
            "Epoch 88/100\n",
            "63/63 [==============================] - 0s 5ms/step - loss: 0.0634 - accuracy: 0.9877 - val_loss: 0.6436 - val_accuracy: 0.9810\n",
            "Epoch 89/100\n",
            "63/63 [==============================] - 0s 5ms/step - loss: 0.0496 - accuracy: 0.9880 - val_loss: 0.8430 - val_accuracy: 0.9780\n",
            "Epoch 90/100\n",
            "63/63 [==============================] - 0s 5ms/step - loss: 0.0547 - accuracy: 0.9910 - val_loss: 1.0334 - val_accuracy: 0.9760\n",
            "Epoch 91/100\n",
            "63/63 [==============================] - 0s 5ms/step - loss: 0.0752 - accuracy: 0.9858 - val_loss: 0.6356 - val_accuracy: 0.9780\n",
            "Epoch 92/100\n",
            "63/63 [==============================] - 0s 5ms/step - loss: 0.0379 - accuracy: 0.9918 - val_loss: 1.0044 - val_accuracy: 0.9760\n",
            "Epoch 93/100\n",
            "63/63 [==============================] - 0s 5ms/step - loss: 0.0548 - accuracy: 0.9890 - val_loss: 0.7837 - val_accuracy: 0.9810\n",
            "Epoch 94/100\n",
            "63/63 [==============================] - 0s 5ms/step - loss: 0.0783 - accuracy: 0.9862 - val_loss: 0.7993 - val_accuracy: 0.9790\n",
            "Epoch 95/100\n",
            "63/63 [==============================] - 0s 5ms/step - loss: 0.1132 - accuracy: 0.9865 - val_loss: 0.7165 - val_accuracy: 0.9770\n",
            "Epoch 96/100\n",
            "63/63 [==============================] - 0s 5ms/step - loss: 0.0646 - accuracy: 0.9887 - val_loss: 0.6371 - val_accuracy: 0.9800\n",
            "Epoch 97/100\n",
            "63/63 [==============================] - 0s 5ms/step - loss: 0.0606 - accuracy: 0.9880 - val_loss: 1.0085 - val_accuracy: 0.9770\n",
            "Epoch 98/100\n",
            "63/63 [==============================] - 0s 5ms/step - loss: 0.0809 - accuracy: 0.9893 - val_loss: 0.5796 - val_accuracy: 0.9800\n",
            "Epoch 99/100\n",
            "63/63 [==============================] - 0s 5ms/step - loss: 0.0626 - accuracy: 0.9880 - val_loss: 0.5538 - val_accuracy: 0.9780\n",
            "Epoch 100/100\n",
            "63/63 [==============================] - 0s 5ms/step - loss: 0.0568 - accuracy: 0.9895 - val_loss: 0.5322 - val_accuracy: 0.9820\n"
          ],
          "name": "stdout"
        }
      ]
    },
    {
      "cell_type": "code",
      "metadata": {
        "id": "-38NytXxFn9q",
        "colab_type": "code",
        "colab": {}
      },
      "source": [
        "def show_hist(history):\n",
        "\n",
        "    # Setting Parameters\n",
        "    acc = history.history['accuracy']\n",
        "    val_acc = history.history['val_accuracy']\n",
        "    loss = history.history['loss']\n",
        "    val_loss = history.history['val_loss']\n",
        "\n",
        "    epochs = range(len(loss))\n",
        "\n",
        "    plt.figure(figsize=(15, 4))\n",
        "\n",
        "    plt.subplot(1, 2, 1)\n",
        "    plt.plot(epochs, loss, 'b.' ,label = 'training loss')\n",
        "    plt.plot(epochs, val_loss, 'g.' , label= 'validation loss')\n",
        "    plt.title('Training and Validation loss')\n",
        "    plt.legend()\n",
        "\n",
        "    plt.subplot(1, 2, 2)\n",
        "    \n",
        "    plt.plot(epochs, acc, 'b.' ,label = 'training acc')\n",
        "    plt.plot(epochs, val_acc, 'g.' , label= 'validation acc')\n",
        "    plt.title('Training and Validation loss')\n",
        "    plt.legend()\n",
        "\n",
        "    plt.show()"
      ],
      "execution_count": 0,
      "outputs": []
    },
    {
      "cell_type": "code",
      "metadata": {
        "id": "I2aI0tVKFpRZ",
        "colab_type": "code",
        "outputId": "38eeb567-4771-4c4c-bfdf-dac825f6476b",
        "colab": {
          "base_uri": "https://localhost:8080/",
          "height": 281
        }
      },
      "source": [
        "show_hist(history)"
      ],
      "execution_count": 0,
      "outputs": [
        {
          "output_type": "display_data",
          "data": {
            "image/png": "[encoded data removed]",
            "text/plain": [
              "<Figure size 1080x288 with 2 Axes>"
            ]
          },
          "metadata": {
            "tags": []
          }
        }
      ]
    },
    {
      "cell_type": "code",
      "metadata": {
        "id": "JbEZ3k4RB70q",
        "colab_type": "code",
        "colab": {}
      },
      "source": [
        "# モデル保存\n",
        "current_path = '/content/drive/My Drive/Colab Notebooks/mnist/model'\n",
        "os.chdir(current_path)\n",
        "# model save\n",
        "model.save('model_mnist.h5', include_optimizer=True)"
      ],
      "execution_count": 0,
      "outputs": []
    },
    {
      "cell_type": "code",
      "metadata": {
        "id": "-lV5jhSxFrHw",
        "colab_type": "code",
        "outputId": "b1ed9e34-52d1-47f5-d306-4f9c847f88dc",
        "colab": {
          "base_uri": "https://localhost:8080/",
          "height": 35
        }
      },
      "source": [
        "# mnist testデータをテスト\n",
        "pred_y = model.predict(x_test)\n",
        "pred_y.shape\n",
        "\n",
        "# dummy -> cat\n",
        "pred_y = np.argmax(pred_y, axis=1)\n",
        "y_test = np.argmax(y_test, axis=1)\n",
        "\n",
        "print(accuracy_score(y_test, pred_y))"
      ],
      "execution_count": 0,
      "outputs": [
        {
          "output_type": "stream",
          "text": [
            "0.955\n"
          ],
          "name": "stdout"
        }
      ]
    },
    {
      "cell_type": "code",
      "metadata": {
        "id": "i5WGQEa8CBLZ",
        "colab_type": "code",
        "outputId": "f074a291-bab5-454b-b0eb-2f9c3495a14d",
        "colab": {
          "base_uri": "https://localhost:8080/",
          "height": 35
        }
      },
      "source": [
        "# ペイント画像をテスト\n",
        "current_path = '/content/drive/My Drive/Colab Notebooks/mnist/test_img/'\n",
        "os.chdir(current_path)\n",
        "\n",
        "label_list = []\n",
        "test_data = []\n",
        "\n",
        "for cnt in range(10):\n",
        "  print(cnt, end=\" \")\n",
        "  \n",
        "  img_list = glob.glob(str(cnt) + '/*.png')\n",
        "  img_list.sort()\n",
        "\n",
        "  label_list.append(np.full(len(img_list), cnt))\n",
        "\n",
        "  for img in img_list:\n",
        "    img = cv2.imread(img, cv2.IMREAD_GRAYSCALE)\n",
        "    img = img_resize(img)\n",
        "    test_data.append(img)\n",
        "\n",
        "test_data = np.array(test_data)\n",
        "test_data = test_data/255\n",
        "test_data = test_data.reshape([-1, d1, d2, 1])"
      ],
      "execution_count": 0,
      "outputs": [
        {
          "output_type": "stream",
          "text": [
            "0 1 2 3 4 5 6 7 8 9 "
          ],
          "name": "stdout"
        }
      ]
    },
    {
      "cell_type": "code",
      "metadata": {
        "id": "u35UOwWDC0sp",
        "colab_type": "code",
        "outputId": "47aff25e-52b9-4863-acf4-8904cceed4f6",
        "colab": {
          "base_uri": "https://localhost:8080/",
          "height": 35
        }
      },
      "source": [
        "y_pred = model.predict(test_data)\n",
        "y_pred = np.argmax(y_pred, axis=1)\n",
        "label_ans = np.concatenate(label_list)\n",
        "\n",
        "print(accuracy_score(label_ans, y_pred))"
      ],
      "execution_count": 0,
      "outputs": [
        {
          "output_type": "stream",
          "text": [
            "0.98\n"
          ],
          "name": "stdout"
        }
      ]
    },
    {
      "cell_type": "code",
      "metadata": {
        "id": "Xd_wFZ3oEBeV",
        "colab_type": "code",
        "outputId": "8edd20e7-83a8-4472-e067-e57419b8dc7e",
        "colab": {
          "base_uri": "https://localhost:8080/",
          "height": 70
        }
      },
      "source": [
        "y_pred"
      ],
      "execution_count": 0,
      "outputs": [
        {
          "output_type": "execute_result",
          "data": {
            "text/plain": [
              "array([0, 0, 0, 0, 0, 1, 1, 1, 1, 1, 2, 2, 2, 2, 2, 3, 3, 3, 3, 3, 4, 4,\n",
              "       4, 4, 4, 5, 5, 5, 5, 5, 6, 6, 6, 6, 6, 7, 7, 7, 7, 7, 8, 3, 8, 8,\n",
              "       8, 9, 9, 9, 9, 9])"
            ]
          },
          "metadata": {
            "tags": []
          },
          "execution_count": 31
        }
      ]
    },
    {
      "cell_type": "code",
      "metadata": {
        "id": "wcfCrt6vNG08",
        "colab_type": "code",
        "outputId": "f531b0a2-3c11-409a-9641-18ec2657a11f",
        "colab": {
          "base_uri": "https://localhost:8080/",
          "height": 35
        }
      },
      "source": [
        "y_pred = model.predict(paint_img)\n",
        "y_pred = np.argmax(y_pred, axis=1)\n",
        "\n",
        "print(accuracy_score(paint_label, y_pred))"
      ],
      "execution_count": 0,
      "outputs": [
        {
          "output_type": "stream",
          "text": [
            "0.99\n"
          ],
          "name": "stdout"
        }
      ]
    }
  ]
}
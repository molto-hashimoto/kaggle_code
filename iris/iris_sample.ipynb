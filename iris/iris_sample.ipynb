{
  "nbformat": 4,
  "nbformat_minor": 0,
  "metadata": {
    "colab": {
      "name": "iris_sample.ipynb",
      "provenance": [],
      "collapsed_sections": []
    },
    "kernelspec": {
      "name": "python3",
      "display_name": "Python 3"
    },
    "accelerator": "GPU"
  },
  "cells": [
    {
      "cell_type": "code",
      "metadata": {
        "id": "Jgyqbn9FKFqG",
        "colab_type": "code",
        "outputId": "438aa3e1-2c4b-4753-9d9d-6e51d1a89a46",
        "colab": {
          "base_uri": "https://localhost:8080/",
          "height": 81
        }
      },
      "source": [
        "from sklearn.model_selection import train_test_split\n",
        "from sklearn import datasets\n",
        "from sklearn import preprocessing\n",
        "from keras.layers import Input, Dense, Activation, Flatten, Dropout, Reshape\n",
        "from keras.layers import Conv2D, MaxPooling2D, GlobalAveragePooling2D\n",
        "from keras.layers import BatchNormalization\n",
        "from keras.models import Model\n",
        "from keras.utils import to_categorical"
      ],
      "execution_count": 1,
      "outputs": [
        {
          "output_type": "stream",
          "text": [
            "Using TensorFlow backend.\n"
          ],
          "name": "stderr"
        },
        {
          "output_type": "display_data",
          "data": {
            "text/html": [
              "<p style=\"color: red;\">\n",
              "The default version of TensorFlow in Colab will soon switch to TensorFlow 2.x.<br>\n",
              "We recommend you <a href=\"https://www.tensorflow.org/guide/migrate\" target=\"_blank\">upgrade</a> now \n",
              "or ensure your notebook will continue to use TensorFlow 1.x via the <code>%tensorflow_version 1.x</code> magic:\n",
              "<a href=\"https://colab.research.google.com/notebooks/tensorflow_version.ipynb\" target=\"_blank\">more info</a>.</p>\n"
            ],
            "text/plain": [
              "<IPython.core.display.HTML object>"
            ]
          },
          "metadata": {
            "tags": []
          }
        }
      ]
    },
    {
      "cell_type": "code",
      "metadata": {
        "id": "3Fv3S2liGvfu",
        "colab_type": "code",
        "colab": {}
      },
      "source": [
        "iris = datasets.load_iris()"
      ],
      "execution_count": 0,
      "outputs": []
    },
    {
      "cell_type": "code",
      "metadata": {
        "id": "c6NFCJMUG4Lv",
        "colab_type": "code",
        "outputId": "e960d8a2-dda7-4c97-e699-ec1318fa5070",
        "colab": {
          "base_uri": "https://localhost:8080/",
          "height": 34
        }
      },
      "source": [
        "iris.keys()"
      ],
      "execution_count": 3,
      "outputs": [
        {
          "output_type": "execute_result",
          "data": {
            "text/plain": [
              "dict_keys(['data', 'target', 'target_names', 'DESCR', 'feature_names', 'filename'])"
            ]
          },
          "metadata": {
            "tags": []
          },
          "execution_count": 3
        }
      ]
    },
    {
      "cell_type": "code",
      "metadata": {
        "id": "JiFBR-mbHmTJ",
        "colab_type": "code",
        "outputId": "08992aa5-7f0f-44cb-ab4d-9d09969b52f1",
        "colab": {
          "base_uri": "https://localhost:8080/",
          "height": 52
        }
      },
      "source": [
        "print(iris['target_names'])\n",
        "print(iris['feature_names'])"
      ],
      "execution_count": 4,
      "outputs": [
        {
          "output_type": "stream",
          "text": [
            "['setosa' 'versicolor' 'virginica']\n",
            "['sepal length (cm)', 'sepal width (cm)', 'petal length (cm)', 'petal width (cm)']\n"
          ],
          "name": "stdout"
        }
      ]
    },
    {
      "cell_type": "code",
      "metadata": {
        "id": "df-Vv4o5H5G0",
        "colab_type": "code",
        "outputId": "451c9023-6758-43fa-f2b4-238c025f5c8a",
        "colab": {
          "base_uri": "https://localhost:8080/",
          "height": 52
        }
      },
      "source": [
        "iris_targets  = iris['target']\n",
        "iris_features = iris['data']\n",
        "print(iris_features.shape)\n",
        "print(iris_targets .shape)"
      ],
      "execution_count": 5,
      "outputs": [
        {
          "output_type": "stream",
          "text": [
            "(150, 4)\n",
            "(150,)\n"
          ],
          "name": "stdout"
        }
      ]
    },
    {
      "cell_type": "code",
      "metadata": {
        "id": "E5Prj5lF45O2",
        "colab_type": "code",
        "colab": {}
      },
      "source": [
        "x_train, x_test, y_train, y_test = train_test_split(iris_features, iris_targets, train_size=0.8, test_size=0.2)"
      ],
      "execution_count": 0,
      "outputs": []
    },
    {
      "cell_type": "code",
      "metadata": {
        "id": "WKTStwcCLX03",
        "colab_type": "code",
        "outputId": "235a325e-0d61-4127-f68b-afcdc955529f",
        "colab": {
          "base_uri": "https://localhost:8080/",
          "height": 52
        }
      },
      "source": [
        "# one hot\n",
        "y_train = to_categorical(y_train)\n",
        "y_test = to_categorical(y_test)\n",
        "\n",
        "print(y_train.shape)\n",
        "print(y_test.shape)"
      ],
      "execution_count": 7,
      "outputs": [
        {
          "output_type": "stream",
          "text": [
            "(120, 3)\n",
            "(30, 3)\n"
          ],
          "name": "stdout"
        }
      ]
    },
    {
      "cell_type": "code",
      "metadata": {
        "id": "kgC9FmP0PjqQ",
        "colab_type": "code",
        "colab": {}
      },
      "source": [
        "# 正規化\n",
        "x_train = preprocessing.minmax_scale(x_train)\n",
        "x_test = preprocessing.minmax_scale(x_test)"
      ],
      "execution_count": 0,
      "outputs": []
    },
    {
      "cell_type": "code",
      "metadata": {
        "id": "MHSrna4WwOI8",
        "colab_type": "code",
        "colab": {}
      },
      "source": [
        "input_dim = x_train.shape[1]\n",
        "output_dim = y_train.shape[1]\n",
        "\n",
        "batch_size = 20\n",
        "epochs = 80"
      ],
      "execution_count": 0,
      "outputs": []
    },
    {
      "cell_type": "code",
      "metadata": {
        "id": "vTAcFkgEwKpg",
        "colab_type": "code",
        "outputId": "3c841764-dd35-47b5-c12a-727e90572fad",
        "colab": {
          "base_uri": "https://localhost:8080/",
          "height": 178
        }
      },
      "source": [
        "inputs = Input(shape=(input_dim,))\n",
        "x = inputs\n",
        "\n",
        "x = Dense(64)(x)\n",
        "x = BatchNormalization()(x)\n",
        "x = Activation('relu')(x)\n",
        "x = Dense(8)(x)\n",
        "x = BatchNormalization()(x)\n",
        "x = Activation('relu')(x)\n",
        "\n",
        "x = Dense(output_dim)(x)\n",
        "predictions = Activation('softmax')(x)"
      ],
      "execution_count": 10,
      "outputs": [
        {
          "output_type": "stream",
          "text": [
            "WARNING:tensorflow:From /usr/local/lib/python3.6/dist-packages/keras/backend/tensorflow_backend.py:66: The name tf.get_default_graph is deprecated. Please use tf.compat.v1.get_default_graph instead.\n",
            "\n",
            "WARNING:tensorflow:From /usr/local/lib/python3.6/dist-packages/keras/backend/tensorflow_backend.py:541: The name tf.placeholder is deprecated. Please use tf.compat.v1.placeholder instead.\n",
            "\n",
            "WARNING:tensorflow:From /usr/local/lib/python3.6/dist-packages/keras/backend/tensorflow_backend.py:4432: The name tf.random_uniform is deprecated. Please use tf.random.uniform instead.\n",
            "\n",
            "WARNING:tensorflow:From /usr/local/lib/python3.6/dist-packages/keras/backend/tensorflow_backend.py:148: The name tf.placeholder_with_default is deprecated. Please use tf.compat.v1.placeholder_with_default instead.\n",
            "\n"
          ],
          "name": "stdout"
        }
      ]
    },
    {
      "cell_type": "code",
      "metadata": {
        "id": "ELi4Cpdnw-Z1",
        "colab_type": "code",
        "outputId": "36c081f9-807b-4017-e817-a2fe81111b1d",
        "colab": {
          "base_uri": "https://localhost:8080/",
          "height": 600
        }
      },
      "source": [
        "model = Model(input=inputs, output=predictions)\n",
        "model.compile('adam', 'categorical_crossentropy', metrics=['accuracy'])\n",
        "model.summary()"
      ],
      "execution_count": 11,
      "outputs": [
        {
          "output_type": "stream",
          "text": [
            "WARNING:tensorflow:From /usr/local/lib/python3.6/dist-packages/keras/optimizers.py:793: The name tf.train.Optimizer is deprecated. Please use tf.compat.v1.train.Optimizer instead.\n",
            "\n",
            "WARNING:tensorflow:From /usr/local/lib/python3.6/dist-packages/keras/backend/tensorflow_backend.py:3576: The name tf.log is deprecated. Please use tf.math.log instead.\n",
            "\n",
            "Model: \"model_1\"\n",
            "_________________________________________________________________\n",
            "Layer (type)                 Output Shape              Param #   \n",
            "=================================================================\n",
            "input_1 (InputLayer)         (None, 4)                 0         \n",
            "_________________________________________________________________\n",
            "dense_1 (Dense)              (None, 64)                320       \n",
            "_________________________________________________________________\n",
            "batch_normalization_1 (Batch (None, 64)                256       \n",
            "_________________________________________________________________\n",
            "activation_1 (Activation)    (None, 64)                0         \n",
            "_________________________________________________________________\n",
            "dense_2 (Dense)              (None, 8)                 520       \n",
            "_________________________________________________________________\n",
            "batch_normalization_2 (Batch (None, 8)                 32        \n",
            "_________________________________________________________________\n",
            "activation_2 (Activation)    (None, 8)                 0         \n",
            "_________________________________________________________________\n",
            "dense_3 (Dense)              (None, 3)                 27        \n",
            "_________________________________________________________________\n",
            "activation_3 (Activation)    (None, 3)                 0         \n",
            "=================================================================\n",
            "Total params: 1,155\n",
            "Trainable params: 1,011\n",
            "Non-trainable params: 144\n",
            "_________________________________________________________________\n"
          ],
          "name": "stdout"
        },
        {
          "output_type": "stream",
          "text": [
            "/usr/local/lib/python3.6/dist-packages/ipykernel_launcher.py:1: UserWarning: Update your `Model` call to the Keras 2 API: `Model(inputs=Tensor(\"in..., outputs=Tensor(\"ac...)`\n",
            "  \"\"\"Entry point for launching an IPython kernel.\n"
          ],
          "name": "stderr"
        }
      ]
    },
    {
      "cell_type": "code",
      "metadata": {
        "id": "uzPbGZ3ZxYa4",
        "colab_type": "code",
        "outputId": "db5c453a-025e-4790-d521-525023554bff",
        "colab": {
          "base_uri": "https://localhost:8080/",
          "height": 1000
        }
      },
      "source": [
        "history = model.fit(\n",
        "    x = x_train, \n",
        "    y = y_train,\n",
        "    batch_size = batch_size,\n",
        "    epochs = epochs, \n",
        "    validation_split=0.2)"
      ],
      "execution_count": 12,
      "outputs": [
        {
          "output_type": "stream",
          "text": [
            "WARNING:tensorflow:From /usr/local/lib/python3.6/dist-packages/tensorflow_core/python/ops/math_grad.py:1424: where (from tensorflow.python.ops.array_ops) is deprecated and will be removed in a future version.\n",
            "Instructions for updating:\n",
            "Use tf.where in 2.0, which has the same broadcast rule as np.where\n",
            "WARNING:tensorflow:From /usr/local/lib/python3.6/dist-packages/keras/backend/tensorflow_backend.py:1033: The name tf.assign_add is deprecated. Please use tf.compat.v1.assign_add instead.\n",
            "\n",
            "WARNING:tensorflow:From /usr/local/lib/python3.6/dist-packages/keras/backend/tensorflow_backend.py:1020: The name tf.assign is deprecated. Please use tf.compat.v1.assign instead.\n",
            "\n",
            "WARNING:tensorflow:From /usr/local/lib/python3.6/dist-packages/keras/backend/tensorflow_backend.py:3005: The name tf.Session is deprecated. Please use tf.compat.v1.Session instead.\n",
            "\n",
            "Train on 96 samples, validate on 24 samples\n",
            "Epoch 1/80\n",
            "WARNING:tensorflow:From /usr/local/lib/python3.6/dist-packages/keras/backend/tensorflow_backend.py:190: The name tf.get_default_session is deprecated. Please use tf.compat.v1.get_default_session instead.\n",
            "\n",
            "WARNING:tensorflow:From /usr/local/lib/python3.6/dist-packages/keras/backend/tensorflow_backend.py:197: The name tf.ConfigProto is deprecated. Please use tf.compat.v1.ConfigProto instead.\n",
            "\n",
            "WARNING:tensorflow:From /usr/local/lib/python3.6/dist-packages/keras/backend/tensorflow_backend.py:207: The name tf.global_variables is deprecated. Please use tf.compat.v1.global_variables instead.\n",
            "\n",
            "WARNING:tensorflow:From /usr/local/lib/python3.6/dist-packages/keras/backend/tensorflow_backend.py:216: The name tf.is_variable_initialized is deprecated. Please use tf.compat.v1.is_variable_initialized instead.\n",
            "\n",
            "WARNING:tensorflow:From /usr/local/lib/python3.6/dist-packages/keras/backend/tensorflow_backend.py:223: The name tf.variables_initializer is deprecated. Please use tf.compat.v1.variables_initializer instead.\n",
            "\n",
            "96/96 [==============================] - 2s 16ms/step - loss: 1.4177 - acc: 0.5417 - val_loss: 1.4962 - val_acc: 0.5000\n",
            "Epoch 2/80\n",
            "96/96 [==============================] - 0s 393us/step - loss: 1.1970 - acc: 0.5625 - val_loss: 1.3919 - val_acc: 0.5417\n",
            "Epoch 3/80\n",
            "96/96 [==============================] - 0s 380us/step - loss: 1.0390 - acc: 0.6146 - val_loss: 1.3196 - val_acc: 0.5417\n",
            "Epoch 4/80\n",
            "96/96 [==============================] - 0s 362us/step - loss: 0.9711 - acc: 0.6042 - val_loss: 1.2568 - val_acc: 0.5417\n",
            "Epoch 5/80\n",
            "96/96 [==============================] - 0s 397us/step - loss: 0.9152 - acc: 0.6042 - val_loss: 1.2137 - val_acc: 0.5417\n",
            "Epoch 6/80\n",
            "96/96 [==============================] - 0s 368us/step - loss: 0.8243 - acc: 0.6563 - val_loss: 1.1650 - val_acc: 0.5417\n",
            "Epoch 7/80\n",
            "96/96 [==============================] - 0s 343us/step - loss: 0.7560 - acc: 0.6563 - val_loss: 1.1218 - val_acc: 0.5417\n",
            "Epoch 8/80\n",
            "96/96 [==============================] - 0s 383us/step - loss: 0.7353 - acc: 0.6458 - val_loss: 1.0823 - val_acc: 0.5417\n",
            "Epoch 9/80\n",
            "96/96 [==============================] - 0s 374us/step - loss: 0.7324 - acc: 0.7083 - val_loss: 1.0414 - val_acc: 0.5417\n",
            "Epoch 10/80\n",
            "96/96 [==============================] - 0s 376us/step - loss: 0.6596 - acc: 0.7396 - val_loss: 1.0024 - val_acc: 0.5417\n",
            "Epoch 11/80\n",
            "96/96 [==============================] - 0s 393us/step - loss: 0.6987 - acc: 0.7500 - val_loss: 0.9605 - val_acc: 0.5417\n",
            "Epoch 12/80\n",
            "96/96 [==============================] - 0s 407us/step - loss: 0.6312 - acc: 0.8333 - val_loss: 0.9209 - val_acc: 0.5833\n",
            "Epoch 13/80\n",
            "96/96 [==============================] - 0s 379us/step - loss: 0.6129 - acc: 0.8750 - val_loss: 0.8839 - val_acc: 0.5833\n",
            "Epoch 14/80\n",
            "96/96 [==============================] - 0s 399us/step - loss: 0.5813 - acc: 0.9167 - val_loss: 0.8478 - val_acc: 0.5833\n",
            "Epoch 15/80\n",
            "96/96 [==============================] - 0s 447us/step - loss: 0.5983 - acc: 0.9063 - val_loss: 0.8106 - val_acc: 0.5833\n",
            "Epoch 16/80\n",
            "96/96 [==============================] - 0s 374us/step - loss: 0.5455 - acc: 0.9271 - val_loss: 0.7899 - val_acc: 0.6250\n",
            "Epoch 17/80\n",
            "96/96 [==============================] - 0s 435us/step - loss: 0.6217 - acc: 0.8333 - val_loss: 0.7655 - val_acc: 0.6667\n",
            "Epoch 18/80\n",
            "96/96 [==============================] - 0s 453us/step - loss: 0.5567 - acc: 0.9062 - val_loss: 0.7328 - val_acc: 0.7083\n",
            "Epoch 19/80\n",
            "96/96 [==============================] - 0s 368us/step - loss: 0.5124 - acc: 0.9167 - val_loss: 0.6951 - val_acc: 0.7083\n",
            "Epoch 20/80\n",
            "96/96 [==============================] - 0s 410us/step - loss: 0.5136 - acc: 0.9167 - val_loss: 0.6671 - val_acc: 0.7500\n",
            "Epoch 21/80\n",
            "96/96 [==============================] - 0s 460us/step - loss: 0.5104 - acc: 0.8958 - val_loss: 0.6466 - val_acc: 0.7917\n",
            "Epoch 22/80\n",
            "96/96 [==============================] - 0s 359us/step - loss: 0.4319 - acc: 0.9583 - val_loss: 0.6378 - val_acc: 0.7917\n",
            "Epoch 23/80\n",
            "96/96 [==============================] - 0s 368us/step - loss: 0.4262 - acc: 0.9583 - val_loss: 0.6255 - val_acc: 0.7917\n",
            "Epoch 24/80\n",
            "96/96 [==============================] - 0s 332us/step - loss: 0.4454 - acc: 0.9167 - val_loss: 0.6041 - val_acc: 0.7917\n",
            "Epoch 25/80\n",
            "96/96 [==============================] - 0s 347us/step - loss: 0.4585 - acc: 0.9271 - val_loss: 0.5824 - val_acc: 0.8333\n",
            "Epoch 26/80\n",
            "96/96 [==============================] - 0s 385us/step - loss: 0.4197 - acc: 0.9583 - val_loss: 0.5592 - val_acc: 0.8333\n",
            "Epoch 27/80\n",
            "96/96 [==============================] - 0s 381us/step - loss: 0.4086 - acc: 0.9583 - val_loss: 0.5377 - val_acc: 0.8750\n",
            "Epoch 28/80\n",
            "96/96 [==============================] - 0s 402us/step - loss: 0.3781 - acc: 0.9792 - val_loss: 0.5192 - val_acc: 0.8750\n",
            "Epoch 29/80\n",
            "96/96 [==============================] - 0s 344us/step - loss: 0.4035 - acc: 0.9375 - val_loss: 0.5019 - val_acc: 0.8750\n",
            "Epoch 30/80\n",
            "96/96 [==============================] - 0s 426us/step - loss: 0.4115 - acc: 0.9375 - val_loss: 0.4741 - val_acc: 0.8750\n",
            "Epoch 31/80\n",
            "96/96 [==============================] - 0s 379us/step - loss: 0.3586 - acc: 0.9687 - val_loss: 0.4546 - val_acc: 0.8750\n",
            "Epoch 32/80\n",
            "96/96 [==============================] - 0s 380us/step - loss: 0.3365 - acc: 0.9792 - val_loss: 0.4327 - val_acc: 0.9167\n",
            "Epoch 33/80\n",
            "96/96 [==============================] - 0s 383us/step - loss: 0.3443 - acc: 0.9687 - val_loss: 0.4331 - val_acc: 0.8750\n",
            "Epoch 34/80\n",
            "96/96 [==============================] - 0s 368us/step - loss: 0.3824 - acc: 0.9375 - val_loss: 0.4390 - val_acc: 0.8750\n",
            "Epoch 35/80\n",
            "96/96 [==============================] - 0s 358us/step - loss: 0.3597 - acc: 0.9479 - val_loss: 0.4283 - val_acc: 0.8750\n",
            "Epoch 36/80\n",
            "96/96 [==============================] - 0s 414us/step - loss: 0.3335 - acc: 0.9583 - val_loss: 0.4086 - val_acc: 0.8750\n",
            "Epoch 37/80\n",
            "96/96 [==============================] - 0s 359us/step - loss: 0.3536 - acc: 0.9687 - val_loss: 0.3960 - val_acc: 0.9167\n",
            "Epoch 38/80\n",
            "96/96 [==============================] - 0s 397us/step - loss: 0.2959 - acc: 0.9583 - val_loss: 0.3785 - val_acc: 0.9167\n",
            "Epoch 39/80\n",
            "96/96 [==============================] - 0s 380us/step - loss: 0.2948 - acc: 0.9688 - val_loss: 0.3740 - val_acc: 0.9167\n",
            "Epoch 40/80\n",
            "96/96 [==============================] - 0s 369us/step - loss: 0.2541 - acc: 0.9896 - val_loss: 0.3690 - val_acc: 0.9167\n",
            "Epoch 41/80\n",
            "96/96 [==============================] - 0s 375us/step - loss: 0.2922 - acc: 0.9583 - val_loss: 0.3694 - val_acc: 0.9167\n",
            "Epoch 42/80\n",
            "96/96 [==============================] - 0s 342us/step - loss: 0.3097 - acc: 0.9375 - val_loss: 0.3637 - val_acc: 0.9167\n",
            "Epoch 43/80\n",
            "96/96 [==============================] - 0s 376us/step - loss: 0.2869 - acc: 0.9583 - val_loss: 0.3469 - val_acc: 0.9167\n",
            "Epoch 44/80\n",
            "96/96 [==============================] - 0s 318us/step - loss: 0.2643 - acc: 0.9687 - val_loss: 0.3369 - val_acc: 0.9167\n",
            "Epoch 45/80\n",
            "96/96 [==============================] - 0s 327us/step - loss: 0.2579 - acc: 0.9687 - val_loss: 0.3208 - val_acc: 0.9167\n",
            "Epoch 46/80\n",
            "96/96 [==============================] - 0s 331us/step - loss: 0.2649 - acc: 0.9583 - val_loss: 0.3170 - val_acc: 0.9167\n",
            "Epoch 47/80\n",
            "96/96 [==============================] - 0s 378us/step - loss: 0.2270 - acc: 0.9792 - val_loss: 0.3120 - val_acc: 0.9167\n",
            "Epoch 48/80\n",
            "96/96 [==============================] - 0s 341us/step - loss: 0.2243 - acc: 0.9792 - val_loss: 0.3065 - val_acc: 0.9167\n",
            "Epoch 49/80\n",
            "96/96 [==============================] - 0s 410us/step - loss: 0.3560 - acc: 0.9063 - val_loss: 0.2943 - val_acc: 0.9167\n",
            "Epoch 50/80\n",
            "96/96 [==============================] - 0s 421us/step - loss: 0.2763 - acc: 0.9375 - val_loss: 0.2823 - val_acc: 0.9167\n",
            "Epoch 51/80\n",
            "96/96 [==============================] - 0s 342us/step - loss: 0.1991 - acc: 0.9792 - val_loss: 0.2756 - val_acc: 0.9167\n",
            "Epoch 52/80\n",
            "96/96 [==============================] - 0s 427us/step - loss: 0.1954 - acc: 0.9896 - val_loss: 0.2748 - val_acc: 0.9167\n",
            "Epoch 53/80\n",
            "96/96 [==============================] - 0s 347us/step - loss: 0.1881 - acc: 0.9896 - val_loss: 0.2715 - val_acc: 0.9167\n",
            "Epoch 54/80\n",
            "96/96 [==============================] - 0s 370us/step - loss: 0.2659 - acc: 0.9375 - val_loss: 0.2737 - val_acc: 0.9167\n",
            "Epoch 55/80\n",
            "96/96 [==============================] - 0s 344us/step - loss: 0.1847 - acc: 0.9792 - val_loss: 0.2734 - val_acc: 0.9167\n",
            "Epoch 56/80\n",
            "96/96 [==============================] - 0s 351us/step - loss: 0.2037 - acc: 0.9479 - val_loss: 0.2668 - val_acc: 0.9167\n",
            "Epoch 57/80\n",
            "96/96 [==============================] - 0s 352us/step - loss: 0.1842 - acc: 0.9792 - val_loss: 0.2594 - val_acc: 0.9167\n",
            "Epoch 58/80\n",
            "96/96 [==============================] - 0s 437us/step - loss: 0.1793 - acc: 0.9896 - val_loss: 0.2639 - val_acc: 0.9167\n",
            "Epoch 59/80\n",
            "96/96 [==============================] - 0s 354us/step - loss: 0.2122 - acc: 0.9583 - val_loss: 0.2523 - val_acc: 0.9167\n",
            "Epoch 60/80\n",
            "96/96 [==============================] - 0s 384us/step - loss: 0.3133 - acc: 0.9062 - val_loss: 0.2370 - val_acc: 0.9167\n",
            "Epoch 61/80\n",
            "96/96 [==============================] - 0s 341us/step - loss: 0.1873 - acc: 1.0000 - val_loss: 0.2140 - val_acc: 0.9583\n",
            "Epoch 62/80\n",
            "96/96 [==============================] - 0s 350us/step - loss: 0.2056 - acc: 0.9583 - val_loss: 0.2029 - val_acc: 0.9583\n",
            "Epoch 63/80\n",
            "96/96 [==============================] - 0s 407us/step - loss: 0.2068 - acc: 0.9479 - val_loss: 0.1917 - val_acc: 0.9583\n",
            "Epoch 64/80\n",
            "96/96 [==============================] - 0s 355us/step - loss: 0.4503 - acc: 0.8125 - val_loss: 0.1844 - val_acc: 0.9583\n",
            "Epoch 65/80\n",
            "96/96 [==============================] - 0s 389us/step - loss: 0.1865 - acc: 0.9792 - val_loss: 0.1863 - val_acc: 0.9583\n",
            "Epoch 66/80\n",
            "96/96 [==============================] - 0s 352us/step - loss: 0.2508 - acc: 0.9271 - val_loss: 0.1922 - val_acc: 0.9583\n",
            "Epoch 67/80\n",
            "96/96 [==============================] - 0s 365us/step - loss: 0.1933 - acc: 0.9583 - val_loss: 0.2002 - val_acc: 0.9583\n",
            "Epoch 68/80\n",
            "96/96 [==============================] - 0s 389us/step - loss: 0.1635 - acc: 0.9896 - val_loss: 0.2106 - val_acc: 0.9583\n",
            "Epoch 69/80\n",
            "96/96 [==============================] - 0s 319us/step - loss: 0.3277 - acc: 0.8958 - val_loss: 0.2016 - val_acc: 0.9583\n",
            "Epoch 70/80\n",
            "96/96 [==============================] - 0s 330us/step - loss: 0.1948 - acc: 0.9583 - val_loss: 0.1835 - val_acc: 1.0000\n",
            "Epoch 71/80\n",
            "96/96 [==============================] - 0s 335us/step - loss: 0.2328 - acc: 0.9583 - val_loss: 0.1766 - val_acc: 0.9583\n",
            "Epoch 72/80\n",
            "96/96 [==============================] - 0s 337us/step - loss: 0.1737 - acc: 0.9792 - val_loss: 0.1705 - val_acc: 1.0000\n",
            "Epoch 73/80\n",
            "96/96 [==============================] - 0s 373us/step - loss: 0.1814 - acc: 0.9583 - val_loss: 0.1748 - val_acc: 1.0000\n",
            "Epoch 74/80\n",
            "96/96 [==============================] - 0s 423us/step - loss: 0.1577 - acc: 0.9583 - val_loss: 0.1928 - val_acc: 1.0000\n",
            "Epoch 75/80\n",
            "96/96 [==============================] - 0s 342us/step - loss: 0.1185 - acc: 0.9896 - val_loss: 0.2017 - val_acc: 0.9583\n",
            "Epoch 76/80\n",
            "96/96 [==============================] - 0s 326us/step - loss: 0.1559 - acc: 0.9896 - val_loss: 0.2031 - val_acc: 0.9583\n",
            "Epoch 77/80\n",
            "96/96 [==============================] - 0s 349us/step - loss: 0.2139 - acc: 0.9271 - val_loss: 0.1919 - val_acc: 1.0000\n",
            "Epoch 78/80\n",
            "96/96 [==============================] - 0s 558us/step - loss: 0.2755 - acc: 0.9271 - val_loss: 0.1784 - val_acc: 0.9167\n",
            "Epoch 79/80\n",
            "96/96 [==============================] - 0s 430us/step - loss: 0.1286 - acc: 0.9792 - val_loss: 0.1892 - val_acc: 0.9167\n",
            "Epoch 80/80\n",
            "96/96 [==============================] - 0s 337us/step - loss: 0.1708 - acc: 0.9583 - val_loss: 0.1958 - val_acc: 0.9167\n"
          ],
          "name": "stdout"
        }
      ]
    },
    {
      "cell_type": "code",
      "metadata": {
        "id": "NCYbU108xwG8",
        "colab_type": "code",
        "colab": {}
      },
      "source": [
        "def compare_TV(history):\n",
        "    import matplotlib.pyplot as plt\n",
        "\n",
        "    loss = history.history['loss']\n",
        "    val_loss = history.history['val_loss']\n",
        "\n",
        "    epochs = range(len(loss))\n",
        "\n",
        "    plt.plot(epochs, loss, 'bo' ,label = 'training loss')\n",
        "    plt.plot(epochs, val_loss, 'b' , label= 'validation loss')\n",
        "    plt.title('Training and Validation loss')\n",
        "    plt.legend()\n",
        "\n",
        "    plt.show()"
      ],
      "execution_count": 0,
      "outputs": []
    },
    {
      "cell_type": "code",
      "metadata": {
        "id": "H6FodEQSx7Ne",
        "colab_type": "code",
        "outputId": "ebf0b50d-906e-4dca-c256-a8f7e3a74496",
        "colab": {
          "base_uri": "https://localhost:8080/",
          "height": 281
        }
      },
      "source": [
        "compare_TV(history)"
      ],
      "execution_count": 14,
      "outputs": [
        {
          "output_type": "display_data",
          "data": {
            "image/png": "[encoded data removed]",
            "text/plain": [
              "<Figure size 432x288 with 1 Axes>"
            ]
          },
          "metadata": {
            "tags": []
          }
        }
      ]
    },
    {
      "cell_type": "code",
      "metadata": {
        "id": "-69lsZ3kyCIp",
        "colab_type": "code",
        "outputId": "0862b3cd-0533-4631-96ec-92a2d4a0c00b",
        "colab": {
          "base_uri": "https://localhost:8080/",
          "height": 52
        }
      },
      "source": [
        "model.evaluate(x_test, y_test, batch_size=1)"
      ],
      "execution_count": 15,
      "outputs": [
        {
          "output_type": "stream",
          "text": [
            "30/30 [==============================] - 0s 2ms/step\n"
          ],
          "name": "stdout"
        },
        {
          "output_type": "execute_result",
          "data": {
            "text/plain": [
              "[0.11919387721767029, 1.0]"
            ]
          },
          "metadata": {
            "tags": []
          },
          "execution_count": 15
        }
      ]
    }
  ]
}